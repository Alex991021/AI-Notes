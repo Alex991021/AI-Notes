{
 "cells": [
  {
   "cell_type": "markdown",
   "metadata": {},
   "source": [
    "## 一、特征缩放"
   ]
  },
  {
   "cell_type": "code",
   "execution_count": 35,
   "metadata": {},
   "outputs": [],
   "source": [
    "# pandas: Python Data Analysis Library 提供大量能快速便捷地处理数据的函数和方法\n",
    "import pandas as pd\n",
    "\n",
    "# seaborn: statistical data visualization 高层数据可视化库\n",
    "import seaborn as sns\n",
    "sns.set(context=\"notebook\", style=\"whitegrid\", palette=\"dark\")\n",
    "\n",
    "# Matplotlib：2D Python 绘图包\n",
    "import matplotlib.pyplot as plt\n",
    "\n",
    "# Tensorflow：端到端开源机器学习平台\n",
    "import tensorflow.compat.v1 as tf\n",
    "tf.disable_v2_behavior()\n",
    "\n",
    "# Numpy：一个运行速度非常快的数学库，主要用于大量的维度数组与矩阵运算\n",
    "import numpy as np"
   ]
  },
  {
   "cell_type": "code",
   "execution_count": 36,
   "metadata": {},
   "outputs": [],
   "source": [
    "# 特征缩放\n",
    "def normalize_feature(df):\n",
    "    # 对原始数据每一列应用一个 lambda 函数，mean() 求每列平均值，std() 求标准差\n",
    "    return df.apply(lambda column: (column - column.mean()) / column.std())"
   ]
  },
  {
   "cell_type": "code",
   "execution_count": 37,
   "metadata": {},
   "outputs": [
    {
     "data": {
      "text/html": [
       "<div>\n",
       "<style scoped>\n",
       "    .dataframe tbody tr th:only-of-type {\n",
       "        vertical-align: middle;\n",
       "    }\n",
       "\n",
       "    .dataframe tbody tr th {\n",
       "        vertical-align: top;\n",
       "    }\n",
       "\n",
       "    .dataframe thead th {\n",
       "        text-align: right;\n",
       "    }\n",
       "</style>\n",
       "<table border=\"1\" class=\"dataframe\">\n",
       "  <thead>\n",
       "    <tr style=\"text-align: right;\">\n",
       "      <th></th>\n",
       "      <th>square</th>\n",
       "      <th>bedrooms</th>\n",
       "      <th>price</th>\n",
       "    </tr>\n",
       "  </thead>\n",
       "  <tbody>\n",
       "    <tr>\n",
       "      <th>0</th>\n",
       "      <td>2104</td>\n",
       "      <td>3</td>\n",
       "      <td>399900</td>\n",
       "    </tr>\n",
       "    <tr>\n",
       "      <th>1</th>\n",
       "      <td>1600</td>\n",
       "      <td>3</td>\n",
       "      <td>329900</td>\n",
       "    </tr>\n",
       "    <tr>\n",
       "      <th>2</th>\n",
       "      <td>2400</td>\n",
       "      <td>3</td>\n",
       "      <td>369000</td>\n",
       "    </tr>\n",
       "    <tr>\n",
       "      <th>3</th>\n",
       "      <td>1416</td>\n",
       "      <td>2</td>\n",
       "      <td>232000</td>\n",
       "    </tr>\n",
       "    <tr>\n",
       "      <th>4</th>\n",
       "      <td>3000</td>\n",
       "      <td>4</td>\n",
       "      <td>539900</td>\n",
       "    </tr>\n",
       "  </tbody>\n",
       "</table>\n",
       "</div>"
      ],
      "text/plain": [
       "   square  bedrooms   price\n",
       "0    2104         3  399900\n",
       "1    1600         3  329900\n",
       "2    2400         3  369000\n",
       "3    1416         2  232000\n",
       "4    3000         4  539900"
      ]
     },
     "execution_count": 37,
     "metadata": {},
     "output_type": "execute_result"
    }
   ],
   "source": [
    "# 显示原始数据\n",
    "raw_data = pd.read_csv('ex1data2.txt', names = ['square', 'bedrooms', 'price'])\n",
    "raw_data.head()"
   ]
  },
  {
   "cell_type": "code",
   "execution_count": 38,
   "metadata": {},
   "outputs": [
    {
     "data": {
      "text/html": [
       "<div>\n",
       "<style scoped>\n",
       "    .dataframe tbody tr th:only-of-type {\n",
       "        vertical-align: middle;\n",
       "    }\n",
       "\n",
       "    .dataframe tbody tr th {\n",
       "        vertical-align: top;\n",
       "    }\n",
       "\n",
       "    .dataframe thead th {\n",
       "        text-align: right;\n",
       "    }\n",
       "</style>\n",
       "<table border=\"1\" class=\"dataframe\">\n",
       "  <thead>\n",
       "    <tr style=\"text-align: right;\">\n",
       "      <th></th>\n",
       "      <th>square</th>\n",
       "      <th>bedrooms</th>\n",
       "      <th>price</th>\n",
       "    </tr>\n",
       "  </thead>\n",
       "  <tbody>\n",
       "    <tr>\n",
       "      <th>0</th>\n",
       "      <td>0.130010</td>\n",
       "      <td>-0.223675</td>\n",
       "      <td>0.475747</td>\n",
       "    </tr>\n",
       "    <tr>\n",
       "      <th>1</th>\n",
       "      <td>-0.504190</td>\n",
       "      <td>-0.223675</td>\n",
       "      <td>-0.084074</td>\n",
       "    </tr>\n",
       "    <tr>\n",
       "      <th>2</th>\n",
       "      <td>0.502476</td>\n",
       "      <td>-0.223675</td>\n",
       "      <td>0.228626</td>\n",
       "    </tr>\n",
       "    <tr>\n",
       "      <th>3</th>\n",
       "      <td>-0.735723</td>\n",
       "      <td>-1.537767</td>\n",
       "      <td>-0.867025</td>\n",
       "    </tr>\n",
       "    <tr>\n",
       "      <th>4</th>\n",
       "      <td>1.257476</td>\n",
       "      <td>1.090417</td>\n",
       "      <td>1.595389</td>\n",
       "    </tr>\n",
       "  </tbody>\n",
       "</table>\n",
       "</div>"
      ],
      "text/plain": [
       "     square  bedrooms     price\n",
       "0  0.130010 -0.223675  0.475747\n",
       "1 -0.504190 -0.223675 -0.084074\n",
       "2  0.502476 -0.223675  0.228626\n",
       "3 -0.735723 -1.537767 -0.867025\n",
       "4  1.257476  1.090417  1.595389"
      ]
     },
     "execution_count": 38,
     "metadata": {},
     "output_type": "execute_result"
    }
   ],
   "source": [
    "# 对原始数据进行特征缩放\n",
    "data = normalize_feature(raw_data)\n",
    "data.head()"
   ]
  },
  {
   "cell_type": "markdown",
   "metadata": {},
   "source": [
    "## 二、读取多维特征"
   ]
  },
  {
   "cell_type": "code",
   "execution_count": 39,
   "metadata": {},
   "outputs": [],
   "source": [
    "# 读取数据特征\n",
    "def get_X(df):\n",
    "    # 创建 m 行 1 列的数据帧\n",
    "    ones = pd.DataFrame({'ones': np.ones(len(df))})\n",
    "    # 合并全 1 向量作为元素数据第一列，axis = 0 按行合并，anix = 1 按列合并\n",
    "    data = pd.concat([ones, df], axis=1)\n",
    "    # ???\n",
    "    return data.iloc[:, :-1].iloc[:, :].values"
   ]
  },
  {
   "cell_type": "code",
   "execution_count": 40,
   "metadata": {},
   "outputs": [],
   "source": [
    "# 读取数据值，即数据标签\n",
    "def get_y(df):\n",
    "    # 返回原始数据最后一列组成的数组，df.iloc[:, -1] 指最后一列\n",
    "    return np.array(df.iloc[:, -1])"
   ]
  },
  {
   "cell_type": "code",
   "execution_count": 43,
   "metadata": {},
   "outputs": [
    {
     "name": "stdout",
     "output_type": "stream",
     "text": [
      "(47, 3) <class 'numpy.ndarray'>\n",
      "[[ 1.00000000e+00  1.30009869e-01 -2.23675187e-01]\n",
      " [ 1.00000000e+00 -5.04189838e-01 -2.23675187e-01]\n",
      " [ 1.00000000e+00  5.02476364e-01 -2.23675187e-01]\n",
      " [ 1.00000000e+00 -7.35723065e-01 -1.53776691e+00]\n",
      " [ 1.00000000e+00  1.25747602e+00  1.09041654e+00]\n",
      " [ 1.00000000e+00 -1.97317285e-02  1.09041654e+00]\n",
      " [ 1.00000000e+00 -5.87239800e-01 -2.23675187e-01]\n",
      " [ 1.00000000e+00 -7.21881404e-01 -2.23675187e-01]\n",
      " [ 1.00000000e+00 -7.81023044e-01 -2.23675187e-01]\n",
      " [ 1.00000000e+00 -6.37573110e-01 -2.23675187e-01]\n",
      " [ 1.00000000e+00 -7.63567023e-02  1.09041654e+00]\n",
      " [ 1.00000000e+00 -8.56737193e-04 -2.23675187e-01]\n",
      " [ 1.00000000e+00 -1.39273340e-01 -2.23675187e-01]\n",
      " [ 1.00000000e+00  3.11729182e+00  2.40450826e+00]\n",
      " [ 1.00000000e+00 -9.21956312e-01 -2.23675187e-01]\n",
      " [ 1.00000000e+00  3.76643089e-01  1.09041654e+00]\n",
      " [ 1.00000000e+00 -8.56523009e-01 -1.53776691e+00]\n",
      " [ 1.00000000e+00 -9.62222960e-01 -2.23675187e-01]\n",
      " [ 1.00000000e+00  7.65467909e-01  1.09041654e+00]\n",
      " [ 1.00000000e+00  1.29648433e+00  1.09041654e+00]\n",
      " [ 1.00000000e+00 -2.94048269e-01 -2.23675187e-01]\n",
      " [ 1.00000000e+00 -1.41790005e-01 -1.53776691e+00]\n",
      " [ 1.00000000e+00 -4.99156507e-01 -2.23675187e-01]\n",
      " [ 1.00000000e+00 -4.86733818e-02  1.09041654e+00]\n",
      " [ 1.00000000e+00  2.37739217e+00 -2.23675187e-01]\n",
      " [ 1.00000000e+00 -1.13335621e+00 -2.23675187e-01]\n",
      " [ 1.00000000e+00 -6.82873089e-01 -2.23675187e-01]\n",
      " [ 1.00000000e+00  6.61026291e-01 -2.23675187e-01]\n",
      " [ 1.00000000e+00  2.50809813e-01 -2.23675187e-01]\n",
      " [ 1.00000000e+00  8.00701226e-01 -2.23675187e-01]\n",
      " [ 1.00000000e+00 -2.03448310e-01 -1.53776691e+00]\n",
      " [ 1.00000000e+00 -1.25918949e+00 -2.85185864e+00]\n",
      " [ 1.00000000e+00  4.94765729e-02  1.09041654e+00]\n",
      " [ 1.00000000e+00  1.42986760e+00 -2.23675187e-01]\n",
      " [ 1.00000000e+00 -2.38681627e-01  1.09041654e+00]\n",
      " [ 1.00000000e+00 -7.09298077e-01 -2.23675187e-01]\n",
      " [ 1.00000000e+00 -9.58447962e-01 -2.23675187e-01]\n",
      " [ 1.00000000e+00  1.65243186e-01  1.09041654e+00]\n",
      " [ 1.00000000e+00  2.78635031e+00  1.09041654e+00]\n",
      " [ 1.00000000e+00  2.02993169e-01  1.09041654e+00]\n",
      " [ 1.00000000e+00 -4.23656542e-01 -1.53776691e+00]\n",
      " [ 1.00000000e+00  2.98626458e-01 -2.23675187e-01]\n",
      " [ 1.00000000e+00  7.12617934e-01  1.09041654e+00]\n",
      " [ 1.00000000e+00 -1.00752294e+00 -2.23675187e-01]\n",
      " [ 1.00000000e+00 -1.44542274e+00 -1.53776691e+00]\n",
      " [ 1.00000000e+00 -1.87089985e-01  1.09041654e+00]\n",
      " [ 1.00000000e+00 -1.00374794e+00 -2.23675187e-01]]\n"
     ]
    }
   ],
   "source": [
    "# 输出特征数据维度和类型\n",
    "X = get_X(data)\n",
    "print(X.shape, type(X))\n",
    "print(X)"
   ]
  },
  {
   "cell_type": "markdown",
   "metadata": {},
   "source": [
    "## 三、多变量梯度下降"
   ]
  },
  {
   "cell_type": "code",
   "execution_count": 44,
   "metadata": {},
   "outputs": [
    {
     "name": "stdout",
     "output_type": "stream",
     "text": [
      "(47,) <class 'numpy.ndarray'>\n"
     ]
    }
   ],
   "source": [
    "# 输出标签数据维度和类型\n",
    "y = get_y(data)\n",
    "print(y.shape, type(y))"
   ]
  },
  {
   "cell_type": "code",
   "execution_count": 45,
   "metadata": {},
   "outputs": [],
   "source": [
    "# 计算偏导数\n",
    "def gradient(theta, X, y):\n",
    "    m = X.shape[0]\n",
    "    \n",
    "    # 为什么顺序反过来了???\n",
    "    inner = X.T @ (X @ theta - y)\n",
    "    \n",
    "    return inner / m"
   ]
  },
  {
   "cell_type": "code",
   "execution_count": 46,
   "metadata": {},
   "outputs": [],
   "source": [
    "# Cost Function\n",
    "# X: R(m * n) 特征矩阵\n",
    "# y: R(m * 1) 标签值矩阵\n",
    "# theta: R(n) 线性回归参数\n",
    "def lr_cost(theta, X, y):\n",
    "    # m 为样本数\n",
    "    m = X.shape[0]\n",
    "    \n",
    "    # 误差 = theta * x - y\n",
    "    inner = X @ theta - y\n",
    "    \n",
    "    # 将平方计算转换为：行向量 * 列向量\n",
    "    square_sum = inner.T @ inner\n",
    "    \n",
    "    # 缩小成本量大小\n",
    "    cost = square_sum / (2 * m)\n",
    "    \n",
    "    return cost;"
   ]
  },
  {
   "cell_type": "code",
   "execution_count": 47,
   "metadata": {},
   "outputs": [],
   "source": [
    "# 批量梯度下降\n",
    "# epoch: 下降迭代次数\n",
    "# alpha: 初始学习率\n",
    "def batch_gradient_decent(theta, X, y, epoch, alpha = 0.01):\n",
    "    # 计算初始成本：theta 都为 0\n",
    "    cost_data = [lr_cost(theta, X, y)]\n",
    "    \n",
    "    # 创建新的 theta 变量，不与原来的混淆\n",
    "    _theta = theta.copy()\n",
    "    \n",
    "    for _ in range(epoch):\n",
    "        _theta = _theta - alpha * gradient(_theta, X, y)\n",
    "        cost_data.append(lr_cost(_theta, X, y))\n",
    "        \n",
    "    return _theta, cost_data"
   ]
  },
  {
   "cell_type": "code",
   "execution_count": 48,
   "metadata": {},
   "outputs": [],
   "source": [
    "# 初始化 theta 参数均为 0\n",
    "theta = np.zeros(X.shape[1])\n",
    "\n",
    "# 设置迭代次数\n",
    "epoch = 500\n",
    "\n",
    "# 设置学习率\n",
    "alpha = 0.01"
   ]
  },
  {
   "cell_type": "code",
   "execution_count": 49,
   "metadata": {},
   "outputs": [],
   "source": [
    "# 多变量批量梯度下降\n",
    "final_theta, cost_data = batch_gradient_decent(theta, X, y, epoch, alpha = alpha)"
   ]
  },
  {
   "cell_type": "code",
   "execution_count": 50,
   "metadata": {},
   "outputs": [
    {
     "name": "stderr",
     "output_type": "stream",
     "text": [
      "/Library/Frameworks/Python.framework/Versions/3.6/lib/python3.6/site-packages/seaborn/timeseries.py:183: UserWarning: The `tsplot` function is deprecated and will be removed in a future release. Please update your code to use the new `lineplot` function.\n",
      "  warnings.warn(msg, UserWarning)\n"
     ]
    },
    {
     "data": {
      "image/png": "[encoded data removed]",
      "text/plain": [
       "<Figure size 432x288 with 1 Axes>"
      ]
     },
     "metadata": {},
     "output_type": "display_data"
    }
   ],
   "source": [
    "# 代价 - 迭代次数可视化\n",
    "sns.tsplot(time = np.arange(len(cost_data)), data = cost_data)\n",
    "plt.xlabel('epoch', fontsize = 18)\n",
    "plt.ylabel('cost', fontsize = 18)\n",
    "plt.show()"
   ]
  },
  {
   "cell_type": "code",
   "execution_count": 51,
   "metadata": {},
   "outputs": [
    {
     "data": {
      "text/plain": [
       "array([-1.16537985e-16,  8.30383883e-01,  8.23982853e-04])"
      ]
     },
     "execution_count": 51,
     "metadata": {},
     "output_type": "execute_result"
    }
   ],
   "source": [
    "# 输出迭代的最优参数 theta\n",
    "final_theta"
   ]
  },
  {
   "cell_type": "code",
   "execution_count": null,
   "metadata": {},
   "outputs": [],
   "source": []
  }
 ],
 "metadata": {
  "kernelspec": {
   "display_name": "Python 3",
   "language": "python",
   "name": "python3"
  },
  "language_info": {
   "codemirror_mode": {
    "name": "ipython",
    "version": 3
   },
   "file_extension": ".py",
   "mimetype": "text/x-python",
   "name": "python",
   "nbconvert_exporter": "python",
   "pygments_lexer": "ipython3",
   "version": "3.6.8"
  }
 },
 "nbformat": 4,
 "nbformat_minor": 4
}
