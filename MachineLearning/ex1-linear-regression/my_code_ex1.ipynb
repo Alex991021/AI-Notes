{
 "cells": [
  {
   "cell_type": "markdown",
   "metadata": {},
   "source": [
    "## Jupyter 机器学习环境搭建"
   ]
  },
  {
   "cell_type": "markdown",
   "metadata": {},
   "source": [
    "- Mac：[Mac 10.13 安装 Python-3.6.8 和 IPython-Notebook](https://dlonng.com/posts/ipynb-install)\n",
    "- Windows：待更新\n",
    "- Ubuntu：待更新\n",
    "- Other Linux：待更新"
   ]
  },
  {
   "cell_type": "markdown",
   "metadata": {},
   "source": [
    "## 一、读取原始数据"
   ]
  },
  {
   "cell_type": "code",
   "execution_count": 131,
   "metadata": {},
   "outputs": [],
   "source": [
    "# pandas: Python Data Analysis Library 提供大量能快速便捷地处理数据的函数和方法\n",
    "import pandas as pd\n",
    "\n",
    "# seaborn: statistical data visualization 高层数据可视化库\n",
    "import seaborn as sns\n",
    "sns.set(context=\"notebook\", style=\"whitegrid\", palette=\"dark\")\n",
    "\n",
    "# Matplotlib：2D Python 绘图包\n",
    "import matplotlib.pyplot as plt\n",
    "\n",
    "# Tensorflow：端到端开源机器学习平台\n",
    "import tensorflow.compat.v1 as tf\n",
    "tf.disable_v2_behavior()\n",
    "\n",
    "# Numpy：一个运行速度非常快的数学库，主要用于大量的维度数组与矩阵运算\n",
    "import numpy as np"
   ]
  },
  {
   "cell_type": "code",
   "execution_count": 132,
   "metadata": {},
   "outputs": [],
   "source": [
    "# 读取数据，第一列命令为 population，第二列命名为 profit\n",
    "df = pd.read_csv('ex1data1.txt', names=['population', 'profit'])"
   ]
  },
  {
   "cell_type": "code",
   "execution_count": 133,
   "metadata": {},
   "outputs": [
    {
     "data": {
      "text/html": [
       "<div>\n",
       "<style scoped>\n",
       "    .dataframe tbody tr th:only-of-type {\n",
       "        vertical-align: middle;\n",
       "    }\n",
       "\n",
       "    .dataframe tbody tr th {\n",
       "        vertical-align: top;\n",
       "    }\n",
       "\n",
       "    .dataframe thead th {\n",
       "        text-align: right;\n",
       "    }\n",
       "</style>\n",
       "<table border=\"1\" class=\"dataframe\">\n",
       "  <thead>\n",
       "    <tr style=\"text-align: right;\">\n",
       "      <th></th>\n",
       "      <th>population</th>\n",
       "      <th>profit</th>\n",
       "    </tr>\n",
       "  </thead>\n",
       "  <tbody>\n",
       "    <tr>\n",
       "      <th>0</th>\n",
       "      <td>6.1101</td>\n",
       "      <td>17.5920</td>\n",
       "    </tr>\n",
       "    <tr>\n",
       "      <th>1</th>\n",
       "      <td>5.5277</td>\n",
       "      <td>9.1302</td>\n",
       "    </tr>\n",
       "    <tr>\n",
       "      <th>2</th>\n",
       "      <td>8.5186</td>\n",
       "      <td>13.6620</td>\n",
       "    </tr>\n",
       "    <tr>\n",
       "      <th>3</th>\n",
       "      <td>7.0032</td>\n",
       "      <td>11.8540</td>\n",
       "    </tr>\n",
       "    <tr>\n",
       "      <th>4</th>\n",
       "      <td>5.8598</td>\n",
       "      <td>6.8233</td>\n",
       "    </tr>\n",
       "  </tbody>\n",
       "</table>\n",
       "</div>"
      ],
      "text/plain": [
       "   population   profit\n",
       "0      6.1101  17.5920\n",
       "1      5.5277   9.1302\n",
       "2      8.5186  13.6620\n",
       "3      7.0032  11.8540\n",
       "4      5.8598   6.8233"
      ]
     },
     "execution_count": 133,
     "metadata": {},
     "output_type": "execute_result"
    }
   ],
   "source": [
    "# 输出前 5 行数据\n",
    "df.head()"
   ]
  },
  {
   "cell_type": "code",
   "execution_count": 134,
   "metadata": {},
   "outputs": [
    {
     "name": "stdout",
     "output_type": "stream",
     "text": [
      "<class 'pandas.core.frame.DataFrame'>\n",
      "RangeIndex: 97 entries, 0 to 96\n",
      "Data columns (total 2 columns):\n",
      " #   Column      Non-Null Count  Dtype  \n",
      "---  ------      --------------  -----  \n",
      " 0   population  97 non-null     float64\n",
      " 1   profit      97 non-null     float64\n",
      "dtypes: float64(2)\n",
      "memory usage: 1.6 KB\n"
     ]
    }
   ],
   "source": [
    "# 输出数据的属性\n",
    "df.info()"
   ]
  },
  {
   "cell_type": "markdown",
   "metadata": {},
   "source": [
    "# 二、可视化原始数据"
   ]
  },
  {
   "cell_type": "code",
   "execution_count": 135,
   "metadata": {},
   "outputs": [
    {
     "data": {
      "image/png": "[encoded data removed]",
      "text/plain": [
       "<Figure size 432x432 with 1 Axes>"
      ]
     },
     "metadata": {},
     "output_type": "display_data"
    }
   ],
   "source": [
    "sns.lmplot('population', 'profit', df, height=6, fit_reg=False)\n",
    "plt.show()"
   ]
  },
  {
   "cell_type": "markdown",
   "metadata": {},
   "source": [
    "## 三、定义函数"
   ]
  },
  {
   "cell_type": "code",
   "execution_count": 136,
   "metadata": {},
   "outputs": [],
   "source": [
    "# 读取数据特征\n",
    "def get_X(df):\n",
    "    # 创建 m 行 1 列的数据帧\n",
    "    ones = pd.DataFrame({'ones': np.ones(len(df))})\n",
    "    # 合并全 1 向量作为元素数据第一列，axis = 0 按行合并，anix = 1 按列合并\n",
    "    data = pd.concat([ones, df], axis=1)\n",
    "    \n",
    "    return data.iloc[:, :-1].values"
   ]
  },
  {
   "cell_type": "code",
   "execution_count": 137,
   "metadata": {},
   "outputs": [],
   "source": [
    "# 读取数据值，即数据标签\n",
    "def get_y(df):\n",
    "    # 返回原始数据最后一列组成的数组，df.iloc[:, -1] 指最后一列\n",
    "    return np.array(df.iloc[:, -1])"
   ]
  },
  {
   "cell_type": "markdown",
   "metadata": {},
   "source": [
    "## 四、计算代价函数 Cost Function"
   ]
  },
  {
   "cell_type": "code",
   "execution_count": 138,
   "metadata": {
    "scrolled": true
   },
   "outputs": [
    {
     "data": {
      "text/html": [
       "<div>\n",
       "<style scoped>\n",
       "    .dataframe tbody tr th:only-of-type {\n",
       "        vertical-align: middle;\n",
       "    }\n",
       "\n",
       "    .dataframe tbody tr th {\n",
       "        vertical-align: top;\n",
       "    }\n",
       "\n",
       "    .dataframe thead th {\n",
       "        text-align: right;\n",
       "    }\n",
       "</style>\n",
       "<table border=\"1\" class=\"dataframe\">\n",
       "  <thead>\n",
       "    <tr style=\"text-align: right;\">\n",
       "      <th></th>\n",
       "      <th>population</th>\n",
       "      <th>profit</th>\n",
       "    </tr>\n",
       "  </thead>\n",
       "  <tbody>\n",
       "    <tr>\n",
       "      <th>0</th>\n",
       "      <td>6.1101</td>\n",
       "      <td>17.59200</td>\n",
       "    </tr>\n",
       "    <tr>\n",
       "      <th>1</th>\n",
       "      <td>5.5277</td>\n",
       "      <td>9.13020</td>\n",
       "    </tr>\n",
       "    <tr>\n",
       "      <th>2</th>\n",
       "      <td>8.5186</td>\n",
       "      <td>13.66200</td>\n",
       "    </tr>\n",
       "    <tr>\n",
       "      <th>3</th>\n",
       "      <td>7.0032</td>\n",
       "      <td>11.85400</td>\n",
       "    </tr>\n",
       "    <tr>\n",
       "      <th>4</th>\n",
       "      <td>5.8598</td>\n",
       "      <td>6.82330</td>\n",
       "    </tr>\n",
       "    <tr>\n",
       "      <th>...</th>\n",
       "      <td>...</td>\n",
       "      <td>...</td>\n",
       "    </tr>\n",
       "    <tr>\n",
       "      <th>92</th>\n",
       "      <td>5.8707</td>\n",
       "      <td>7.20290</td>\n",
       "    </tr>\n",
       "    <tr>\n",
       "      <th>93</th>\n",
       "      <td>5.3054</td>\n",
       "      <td>1.98690</td>\n",
       "    </tr>\n",
       "    <tr>\n",
       "      <th>94</th>\n",
       "      <td>8.2934</td>\n",
       "      <td>0.14454</td>\n",
       "    </tr>\n",
       "    <tr>\n",
       "      <th>95</th>\n",
       "      <td>13.3940</td>\n",
       "      <td>9.05510</td>\n",
       "    </tr>\n",
       "    <tr>\n",
       "      <th>96</th>\n",
       "      <td>5.4369</td>\n",
       "      <td>0.61705</td>\n",
       "    </tr>\n",
       "  </tbody>\n",
       "</table>\n",
       "<p>97 rows × 2 columns</p>\n",
       "</div>"
      ],
      "text/plain": [
       "    population    profit\n",
       "0       6.1101  17.59200\n",
       "1       5.5277   9.13020\n",
       "2       8.5186  13.66200\n",
       "3       7.0032  11.85400\n",
       "4       5.8598   6.82330\n",
       "..         ...       ...\n",
       "92      5.8707   7.20290\n",
       "93      5.3054   1.98690\n",
       "94      8.2934   0.14454\n",
       "95     13.3940   9.05510\n",
       "96      5.4369   0.61705\n",
       "\n",
       "[97 rows x 2 columns]"
      ]
     },
     "execution_count": 138,
     "metadata": {},
     "output_type": "execute_result"
    }
   ],
   "source": [
    "# 读取数据\n",
    "data = pd.read_csv('ex1data1.txt', names=['population', 'profit'])\n",
    "\n",
    "# 输出前 5 行\n",
    "data"
   ]
  },
  {
   "cell_type": "code",
   "execution_count": 139,
   "metadata": {},
   "outputs": [
    {
     "name": "stdout",
     "output_type": "stream",
     "text": [
      "(97, 2) <class 'numpy.ndarray'>\n",
      "[[ 1.      6.1101]\n",
      " [ 1.      5.5277]\n",
      " [ 1.      8.5186]\n",
      " [ 1.      7.0032]\n",
      " [ 1.      5.8598]\n",
      " [ 1.      8.3829]\n",
      " [ 1.      7.4764]\n",
      " [ 1.      8.5781]\n",
      " [ 1.      6.4862]\n",
      " [ 1.      5.0546]\n",
      " [ 1.      5.7107]\n",
      " [ 1.     14.164 ]\n",
      " [ 1.      5.734 ]\n",
      " [ 1.      8.4084]\n",
      " [ 1.      5.6407]\n",
      " [ 1.      5.3794]\n",
      " [ 1.      6.3654]\n",
      " [ 1.      5.1301]\n",
      " [ 1.      6.4296]\n",
      " [ 1.      7.0708]\n",
      " [ 1.      6.1891]\n",
      " [ 1.     20.27  ]\n",
      " [ 1.      5.4901]\n",
      " [ 1.      6.3261]\n",
      " [ 1.      5.5649]\n",
      " [ 1.     18.945 ]\n",
      " [ 1.     12.828 ]\n",
      " [ 1.     10.957 ]\n",
      " [ 1.     13.176 ]\n",
      " [ 1.     22.203 ]\n",
      " [ 1.      5.2524]\n",
      " [ 1.      6.5894]\n",
      " [ 1.      9.2482]\n",
      " [ 1.      5.8918]\n",
      " [ 1.      8.2111]\n",
      " [ 1.      7.9334]\n",
      " [ 1.      8.0959]\n",
      " [ 1.      5.6063]\n",
      " [ 1.     12.836 ]\n",
      " [ 1.      6.3534]\n",
      " [ 1.      5.4069]\n",
      " [ 1.      6.8825]\n",
      " [ 1.     11.708 ]\n",
      " [ 1.      5.7737]\n",
      " [ 1.      7.8247]\n",
      " [ 1.      7.0931]\n",
      " [ 1.      5.0702]\n",
      " [ 1.      5.8014]\n",
      " [ 1.     11.7   ]\n",
      " [ 1.      5.5416]\n",
      " [ 1.      7.5402]\n",
      " [ 1.      5.3077]\n",
      " [ 1.      7.4239]\n",
      " [ 1.      7.6031]\n",
      " [ 1.      6.3328]\n",
      " [ 1.      6.3589]\n",
      " [ 1.      6.2742]\n",
      " [ 1.      5.6397]\n",
      " [ 1.      9.3102]\n",
      " [ 1.      9.4536]\n",
      " [ 1.      8.8254]\n",
      " [ 1.      5.1793]\n",
      " [ 1.     21.279 ]\n",
      " [ 1.     14.908 ]\n",
      " [ 1.     18.959 ]\n",
      " [ 1.      7.2182]\n",
      " [ 1.      8.2951]\n",
      " [ 1.     10.236 ]\n",
      " [ 1.      5.4994]\n",
      " [ 1.     20.341 ]\n",
      " [ 1.     10.136 ]\n",
      " [ 1.      7.3345]\n",
      " [ 1.      6.0062]\n",
      " [ 1.      7.2259]\n",
      " [ 1.      5.0269]\n",
      " [ 1.      6.5479]\n",
      " [ 1.      7.5386]\n",
      " [ 1.      5.0365]\n",
      " [ 1.     10.274 ]\n",
      " [ 1.      5.1077]\n",
      " [ 1.      5.7292]\n",
      " [ 1.      5.1884]\n",
      " [ 1.      6.3557]\n",
      " [ 1.      9.7687]\n",
      " [ 1.      6.5159]\n",
      " [ 1.      8.5172]\n",
      " [ 1.      9.1802]\n",
      " [ 1.      6.002 ]\n",
      " [ 1.      5.5204]\n",
      " [ 1.      5.0594]\n",
      " [ 1.      5.7077]\n",
      " [ 1.      7.6366]\n",
      " [ 1.      5.8707]\n",
      " [ 1.      5.3054]\n",
      " [ 1.      8.2934]\n",
      " [ 1.     13.394 ]\n",
      " [ 1.      5.4369]]\n"
     ]
    }
   ],
   "source": [
    "# 查看特征属性\n",
    "X = get_X(data)\n",
    "print(X.shape, type(X))\n",
    "print(X)"
   ]
  },
  {
   "cell_type": "code",
   "execution_count": 140,
   "metadata": {},
   "outputs": [
    {
     "name": "stdout",
     "output_type": "stream",
     "text": [
      "(97,) <class 'numpy.ndarray'>\n"
     ]
    }
   ],
   "source": [
    "# 查看标签属性\n",
    "y = get_y(data)\n",
    "print(y.shape, type(y))"
   ]
  },
  {
   "cell_type": "code",
   "execution_count": 141,
   "metadata": {},
   "outputs": [],
   "source": [
    "# X.shape[1] = 2，表示特征数 n = 2，theta = [theta_0, theta_1]\n",
    "theta = np.zeros(X.shape[1])"
   ]
  },
  {
   "cell_type": "code",
   "execution_count": 142,
   "metadata": {},
   "outputs": [],
   "source": [
    "# Cost Function\n",
    "# X: R(m * n) 特征矩阵\n",
    "# y: R(m * 1) 标签值矩阵\n",
    "# theta: R(n) 线性回归参数\n",
    "def lr_cost(theta, X, y):\n",
    "    # m 为样本数\n",
    "    m = X.shape[0]\n",
    "    \n",
    "    # 误差 = theta * x - y\n",
    "    inner = X @ theta - y\n",
    "    \n",
    "    # 将平方计算转换为：行向量 * 列向量\n",
    "    square_sum = inner.T @ inner\n",
    "    \n",
    "    # 缩小成本量大小\n",
    "    cost = square_sum / (2 * m)\n",
    "    \n",
    "    return cost;"
   ]
  },
  {
   "cell_type": "code",
   "execution_count": 143,
   "metadata": {},
   "outputs": [
    {
     "data": {
      "text/plain": [
       "32.072733877455676"
      ]
     },
     "execution_count": 143,
     "metadata": {},
     "output_type": "execute_result"
    }
   ],
   "source": [
    "# 当 theta 初始为 0 时，计算当前成本 cost\n",
    "lr_cost(theta, X, y)"
   ]
  },
  {
   "cell_type": "markdown",
   "metadata": {},
   "source": [
    "## 五、批量梯度下降法"
   ]
  },
  {
   "cell_type": "code",
   "execution_count": 144,
   "metadata": {},
   "outputs": [],
   "source": [
    "# 计算偏导数\n",
    "def gradient(theta, X, y):\n",
    "    m = X.shape[0]\n",
    "    \n",
    "    inner = X.T @ (X @ theta - y)\n",
    "    \n",
    "    return inner / m"
   ]
  },
  {
   "cell_type": "code",
   "execution_count": 145,
   "metadata": {},
   "outputs": [],
   "source": [
    "# 批量梯度下降\n",
    "# epoch: 下降迭代次数\n",
    "# alpha: 初始学习率\n",
    "def batch_gradient_decent(theta, X, y, epoch, alpha = 0.01):\n",
    "    # 计算初始成本：theta 都为 0\n",
    "    cost_data = [lr_cost(theta, X, y)]\n",
    "    \n",
    "    # 创建新的 theta 变量，不与原来的混淆\n",
    "    _theta = theta.copy()\n",
    "    \n",
    "    for _ in range(epoch):\n",
    "        _theta = _theta - alpha * gradient(_theta, X, y)\n",
    "        cost_data.append(lr_cost(_theta, X, y))\n",
    "        \n",
    "    return _theta, cost_data"
   ]
  },
  {
   "cell_type": "code",
   "execution_count": 146,
   "metadata": {},
   "outputs": [],
   "source": [
    "epoch = 500\n",
    "final_theta, cost_data = batch_gradient_decent(theta, X, y, epoch)"
   ]
  },
  {
   "cell_type": "code",
   "execution_count": 147,
   "metadata": {},
   "outputs": [
    {
     "data": {
      "text/plain": [
       "array([-2.28286727,  1.03099898])"
      ]
     },
     "execution_count": 147,
     "metadata": {},
     "output_type": "execute_result"
    }
   ],
   "source": [
    "# 输出最优参数\n",
    "final_theta"
   ]
  },
  {
   "cell_type": "code",
   "execution_count": 148,
   "metadata": {},
   "outputs": [
    {
     "data": {
      "text/plain": [
       "[32.072733877455676,\n",
       " 6.737190464870011,\n",
       " 5.931593568604956,\n",
       " 5.901154707081388,\n",
       " 5.895228586444221,\n",
       " 5.890094943117332,\n",
       " 5.885004158443646,\n",
       " 5.8799324804914175,\n",
       " 5.874879094762575,\n",
       " 5.869843911806386,\n",
       " 5.864826865312929,\n",
       " 5.859827889932181,\n",
       " 5.85484692057229,\n",
       " 5.849883892376587,\n",
       " 5.844938740722034,\n",
       " 5.840011401218361,\n",
       " 5.8351018097072265,\n",
       " 5.830209902261388,\n",
       " 5.825335615183862,\n",
       " 5.820478885007098,\n",
       " 5.815639648492155,\n",
       " 5.810817842627869,\n",
       " 5.806013404630045,\n",
       " 5.80122627194063,\n",
       " 5.796456382226899,\n",
       " 5.791703673380653,\n",
       " 5.7869680835173956,\n",
       " 5.782249550975539,\n",
       " 5.777548014315596,\n",
       " 5.772863412319382,\n",
       " 5.768195683989214,\n",
       " 5.76354476854712,\n",
       " 5.758910605434049,\n",
       " 5.754293134309077,\n",
       " 5.749692295048629,\n",
       " 5.745108027745684,\n",
       " 5.740540272709012,\n",
       " 5.735988970462381,\n",
       " 5.731454061743792,\n",
       " 5.726935487504702,\n",
       " 5.722433188909257,\n",
       " 5.717947107333529,\n",
       " 5.71347718436475,\n",
       " 5.709023361800549,\n",
       " 5.704585581648199,\n",
       " 5.700163786123856,\n",
       " 5.695757917651815,\n",
       " 5.691367918863752,\n",
       " 5.686993732597982,\n",
       " 5.682635301898707,\n",
       " 5.678292570015291,\n",
       " 5.673965480401506,\n",
       " 5.669653976714797,\n",
       " 5.665358002815553,\n",
       " 5.661077502766381,\n",
       " 5.6568124208313595,\n",
       " 5.652562701475333,\n",
       " 5.648328289363181,\n",
       " 5.644109129359092,\n",
       " 5.639905166525856,\n",
       " 5.635716346124135,\n",
       " 5.631542613611772,\n",
       " 5.627383914643055,\n",
       " 5.623240195068027,\n",
       " 5.619111400931778,\n",
       " 5.61499747847374,\n",
       " 5.610898374126984,\n",
       " 5.606814034517532,\n",
       " 5.602744406463646,\n",
       " 5.598689436975159,\n",
       " 5.59464907325276,\n",
       " 5.590623262687323,\n",
       " 5.586611952859217,\n",
       " 5.5826150915376225,\n",
       " 5.578632626679853,\n",
       " 5.574664506430678,\n",
       " 5.570710679121643,\n",
       " 5.566771093270403,\n",
       " 5.562845697580051,\n",
       " 5.558934440938442,\n",
       " 5.555037272417543,\n",
       " 5.551154141272754,\n",
       " 5.547284996942256,\n",
       " 5.543429789046352,\n",
       " 5.539588467386808,\n",
       " 5.535760981946204,\n",
       " 5.531947282887275,\n",
       " 5.5281473205522715,\n",
       " 5.524361045462306,\n",
       " 5.520588408316713,\n",
       " 5.5168293599924025,\n",
       " 5.513083851543225,\n",
       " 5.5093518341993315,\n",
       " 5.505633259366538,\n",
       " 5.501928078625699,\n",
       " 5.498236243732065,\n",
       " 5.494557706614666,\n",
       " 5.490892419375677,\n",
       " 5.487240334289805,\n",
       " 5.483601403803652,\n",
       " 5.479975580535111,\n",
       " 5.476362817272741,\n",
       " 5.472763066975153,\n",
       " 5.469176282770398,\n",
       " 5.465602417955358,\n",
       " 5.462041425995138,\n",
       " 5.4584932605224585,\n",
       " 5.454957875337047,\n",
       " 5.451435224405051,\n",
       " 5.447925261858424,\n",
       " 5.444427941994333,\n",
       " 5.440943219274565,\n",
       " 5.437471048324933,\n",
       " 5.434011383934687,\n",
       " 5.430564181055919,\n",
       " 5.427129394802987,\n",
       " 5.423706980451917,\n",
       " 5.420296893439839,\n",
       " 5.416899089364382,\n",
       " 5.413513523983123,\n",
       " 5.4101401532129865,\n",
       " 5.406778933129694,\n",
       " 5.403429819967165,\n",
       " 5.400092770116975,\n",
       " 5.396767740127768,\n",
       " 5.393454686704697,\n",
       " 5.390153566708862,\n",
       " 5.386864337156747,\n",
       " 5.383586955219661,\n",
       " 5.380321378223178,\n",
       " 5.377067563646582,\n",
       " 5.373825469122317,\n",
       " 5.37059505243543,\n",
       " 5.367376271523024,\n",
       " 5.364169084473712,\n",
       " 5.360973449527068,\n",
       " 5.357789325073084,\n",
       " 5.354616669651632,\n",
       " 5.3514554419519165,\n",
       " 5.348305600811943,\n",
       " 5.345167105217981,\n",
       " 5.342039914304029,\n",
       " 5.338923987351282,\n",
       " 5.335819283787603,\n",
       " 5.332725763186989,\n",
       " 5.329643385269053,\n",
       " 5.326572109898499,\n",
       " 5.323511897084587,\n",
       " 5.32046270698063,\n",
       " 5.317424499883461,\n",
       " 5.314397236232924,\n",
       " 5.311380876611356,\n",
       " 5.3083753817430726,\n",
       " 5.305380712493861,\n",
       " 5.302396829870465,\n",
       " 5.2994236950200815,\n",
       " 5.296461269229852,\n",
       " 5.29350951392636,\n",
       " 5.290568390675129,\n",
       " 5.287637861180118,\n",
       " 5.284717887283232,\n",
       " 5.281808430963811,\n",
       " 5.278909454338152,\n",
       " 5.276020919659001,\n",
       " 5.27314278931507,\n",
       " 5.270275025830544,\n",
       " 5.267417591864592,\n",
       " 5.264570450210885,\n",
       " 5.261733563797111,\n",
       " 5.2589068956844836,\n",
       " 5.256090409067274,\n",
       " 5.253284067272322,\n",
       " 5.250487833758565,\n",
       " 5.2477016721165555,\n",
       " 5.244925546067994,\n",
       " 5.242159419465253,\n",
       " 5.239403256290902,\n",
       " 5.236657020657251,\n",
       " 5.2339206768058695,\n",
       " 5.231194189107128,\n",
       " 5.228477522059737,\n",
       " 5.225770640290271,\n",
       " 5.223073508552729,\n",
       " 5.220386091728056,\n",
       " 5.217708354823697,\n",
       " 5.215040262973137,\n",
       " 5.21238178143545,\n",
       " 5.2097328755948435,\n",
       " 5.207093510960208,\n",
       " 5.204463653164672,\n",
       " 5.20184326796515,\n",
       " 5.199232321241896,\n",
       " 5.1966307789980615,\n",
       " 5.19403860735926,\n",
       " 5.191455772573107,\n",
       " 5.188882241008802,\n",
       " 5.1863179791566765,\n",
       " 5.18376295362776,\n",
       " 5.181217131153349,\n",
       " 5.1786804785845755,\n",
       " 5.176152962891967,\n",
       " 5.173634551165023,\n",
       " 5.171125210611782,\n",
       " 5.168624908558404,\n",
       " 5.166133612448731,\n",
       " 5.163651289843875,\n",
       " 5.161177908421789,\n",
       " 5.15871343597685,\n",
       " 5.156257840419433,\n",
       " 5.153811089775505,\n",
       " 5.151373152186197,\n",
       " 5.148943995907395,\n",
       " 5.146523589309324,\n",
       " 5.14411190087614,\n",
       " 5.141708899205515,\n",
       " 5.139314553008234,\n",
       " 5.136928831107778,\n",
       " 5.134551702439931,\n",
       " 5.132183136052365,\n",
       " 5.129823101104238,\n",
       " 5.127471566865799,\n",
       " 5.12512850271798,\n",
       " 5.122793878152007,\n",
       " 5.120467662768992,\n",
       " 5.118149826279543,\n",
       " 5.115840338503368,\n",
       " 5.113539169368884,\n",
       " 5.111246288912825,\n",
       " 5.108961667279847,\n",
       " 5.10668527472215,\n",
       " 5.104417081599077,\n",
       " 5.1021570583767355,\n",
       " 5.099905175627619,\n",
       " 5.097661404030211,\n",
       " 5.095425714368609,\n",
       " 5.09319807753215,\n",
       " 5.090978464515022,\n",
       " 5.088766846415887,\n",
       " 5.086563194437517,\n",
       " 5.0843674798864,\n",
       " 5.082179674172386,\n",
       " 5.079999748808298,\n",
       " 5.0778276754095675,\n",
       " 5.075663425693873,\n",
       " 5.0735069714807555,\n",
       " 5.071358284691268,\n",
       " 5.069217337347596,\n",
       " 5.067084101572705,\n",
       " 5.064958549589969,\n",
       " 5.062840653722809,\n",
       " 5.060730386394342,\n",
       " 5.05862772012701,\n",
       " 5.056532627542231,\n",
       " 5.0544450813600355,\n",
       " 5.052365054398719,\n",
       " 5.050292519574479,\n",
       " 5.0482274499010735,\n",
       " 5.046169818489457,\n",
       " 5.044119598547441,\n",
       " 5.042076763379342,\n",
       " 5.040041286385627,\n",
       " 5.038013141062576,\n",
       " 5.035992301001939,\n",
       " 5.033978739890578,\n",
       " 5.031972431510141,\n",
       " 5.029973349736707,\n",
       " 5.027981468540455,\n",
       " 5.025996761985323,\n",
       " 5.024019204228667,\n",
       " 5.022048769520928,\n",
       " 5.020085432205293,\n",
       " 5.018129166717368,\n",
       " 5.016179947584834,\n",
       " 5.014237749427129,\n",
       " 5.012302546955105,\n",
       " 5.010374314970709,\n",
       " 5.008453028366643,\n",
       " 5.006538662126048,\n",
       " 5.004631191322175,\n",
       " 5.00273059111806,\n",
       " 5.0008368367662,\n",
       " 4.998949903608226,\n",
       " 4.997069767074595,\n",
       " 4.995196402684257,\n",
       " 4.9933297860443435,\n",
       " 4.991469892849845,\n",
       " 4.9896166988833,\n",
       " 4.987770180014478,\n",
       " 4.98593031220006,\n",
       " 4.984097071483333,\n",
       " 4.982270433993871,\n",
       " 4.9804503759472345,\n",
       " 4.978636873644648,\n",
       " 4.9768299034727,\n",
       " 4.975029441903031,\n",
       " 4.973235465492034,\n",
       " 4.97144795088054,\n",
       " 4.969666874793522,\n",
       " 4.967892214039784,\n",
       " 4.966123945511668,\n",
       " 4.964362046184744,\n",
       " 4.962606493117519,\n",
       " 4.96085726345113,\n",
       " 4.959114334409053,\n",
       " 4.957377683296804,\n",
       " 4.95564728750164,\n",
       " 4.95392312449227,\n",
       " 4.9522051718185605,\n",
       " 4.95049340711124,\n",
       " 4.948787808081611,\n",
       " 4.9470883525212574,\n",
       " 4.94539501830176,\n",
       " 4.943707783374398,\n",
       " 4.942026625769876,\n",
       " 4.9403515235980295,\n",
       " 4.938682455047536,\n",
       " 4.937019398385641,\n",
       " 4.935362331957869,\n",
       " 4.933711234187743,\n",
       " 4.932066083576499,\n",
       " 4.930426858702819,\n",
       " 4.928793538222535,\n",
       " 4.927166100868363,\n",
       " 4.925544525449622,\n",
       " 4.923928790851963,\n",
       " 4.922318876037079,\n",
       " 4.920714760042452,\n",
       " 4.919116421981068,\n",
       " 4.91752384104114,\n",
       " 4.915936996485852,\n",
       " 4.914355867653076,\n",
       " 4.912780433955112,\n",
       " 4.911210674878409,\n",
       " 4.9096465699833125,\n",
       " 4.908088098903785,\n",
       " 4.9065352413471475,\n",
       " 4.904987977093815,\n",
       " 4.903446285997032,\n",
       " 4.90191014798261,\n",
       " 4.9003795430486665,\n",
       " 4.898854451265366,\n",
       " 4.897334852774656,\n",
       " 4.895820727790016,\n",
       " 4.894312056596192,\n",
       " 4.892808819548943,\n",
       " 4.891310997074789,\n",
       " 4.889818569670748,\n",
       " 4.888331517904091,\n",
       " 4.8868498224120795,\n",
       " 4.8853734639017246,\n",
       " 4.883902423149524,\n",
       " 4.88243668100122,\n",
       " 4.880976218371548,\n",
       " 4.879521016243985,\n",
       " 4.8780710556705085,\n",
       " 4.876626317771341,\n",
       " 4.875186783734714,\n",
       " 4.87375243481661,\n",
       " 4.872323252340535,\n",
       " 4.870899217697262,\n",
       " 4.869480312344594,\n",
       " 4.868066517807122,\n",
       " 4.866657815675986,\n",
       " 4.865254187608633,\n",
       " 4.863855615328574,\n",
       " 4.862462080625159,\n",
       " 4.861073565353324,\n",
       " 4.859690051433372,\n",
       " 4.858311520850715,\n",
       " 4.856937955655664,\n",
       " 4.855569337963178,\n",
       " 4.85420564995264,\n",
       " 4.852846873867616,\n",
       " 4.851492992015639,\n",
       " 4.850143986767962,\n",
       " 4.8487998405593355,\n",
       " 4.847460535887784,\n",
       " 4.84612605531437,\n",
       " 4.8447963814629675,\n",
       " 4.843471497020046,\n",
       " 4.842151384734428,\n",
       " 4.8408360274170805,\n",
       " 4.839525407940883,\n",
       " 4.838219509240404,\n",
       " 4.836918314311682,\n",
       " 4.8356218062120035,\n",
       " 4.834329968059677,\n",
       " 4.833042783033826,\n",
       " 4.831760234374157,\n",
       " 4.830482305380745,\n",
       " 4.829208979413817,\n",
       " 4.8279402398935405,\n",
       " 4.826676070299799,\n",
       " 4.825416454171979,\n",
       " 4.824161375108761,\n",
       " 4.822910816767899,\n",
       " 4.821664762866011,\n",
       " 4.8204231971783695,\n",
       " 4.819186103538688,\n",
       " 4.817953465838902,\n",
       " 4.816725268028978,\n",
       " 4.815501494116686,\n",
       " 4.814282128167403,\n",
       " 4.813067154303901,\n",
       " 4.811856556706141,\n",
       " 4.810650319611066,\n",
       " 4.809448427312395,\n",
       " 4.808250864160425,\n",
       " 4.807057614561818,\n",
       " 4.805868662979403,\n",
       " 4.804683993931976,\n",
       " 4.80350359199409,\n",
       " 4.802327441795867,\n",
       " 4.80115552802278,\n",
       " 4.799987835415476,\n",
       " 4.798824348769555,\n",
       " 4.7976650529353915,\n",
       " 4.796509932817919,\n",
       " 4.795358973376449,\n",
       " 4.7942121596244665,\n",
       " 4.793069476629436,\n",
       " 4.791930909512613,\n",
       " 4.790796443448837,\n",
       " 4.789666063666355,\n",
       " 4.788539755446615,\n",
       " 4.787417504124084,\n",
       " 4.786299295086054,\n",
       " 4.785185113772448,\n",
       " 4.784074945675635,\n",
       " 4.7829687763402395,\n",
       " 4.781866591362954,\n",
       " 4.78076837639235,\n",
       " 4.779674117128696,\n",
       " 4.778583799323759,\n",
       " 4.777497408780635,\n",
       " 4.776414931353551,\n",
       " 4.775336352947692,\n",
       " 4.774261659519006,\n",
       " 4.773190837074032,\n",
       " 4.772123871669708,\n",
       " 4.771060749413196,\n",
       " 4.770001456461701,\n",
       " 4.768945979022286,\n",
       " 4.767894303351698,\n",
       " 4.766846415756183,\n",
       " 4.765802302591315,\n",
       " 4.764761950261813,\n",
       " 4.763725345221363,\n",
       " 4.762692473972447,\n",
       " 4.761663323066164,\n",
       " 4.760637879102053,\n",
       " 4.7596161287279255,\n",
       " 4.75859805863968,\n",
       " 4.757583655581141,\n",
       " 4.7565729063438775,\n",
       " 4.755565797767039,\n",
       " 4.7545623167371724,\n",
       " 4.753562450188067,\n",
       " 4.752566185100569,\n",
       " 4.751573508502425,\n",
       " 4.750584407468098,\n",
       " 4.7495988691186195,\n",
       " 4.7486168806214,\n",
       " 4.7476384291900775,\n",
       " 4.746663502084345,\n",
       " 4.745692086609786,\n",
       " 4.744724170117705,\n",
       " 4.743759740004973,\n",
       " 4.742798783713851,\n",
       " 4.741841288731832,\n",
       " 4.740887242591483,\n",
       " 4.739936632870274,\n",
       " 4.738989447190423,\n",
       " 4.7380456732187275,\n",
       " 4.737105298666416,\n",
       " 4.736168311288972,\n",
       " 4.735234698885989,\n",
       " 4.734304449301005,\n",
       " 4.733377550421341,\n",
       " 4.732453990177952,\n",
       " 4.731533756545262,\n",
       " 4.73061683754101,\n",
       " 4.7297032212260985,\n",
       " 4.728792895704427,\n",
       " 4.727885849122751,\n",
       " 4.726982069670518,\n",
       " 4.726081545579717,\n",
       " 4.725184265124721,\n",
       " 4.724290216622143,\n",
       " 4.7233993884306775,\n",
       " 4.722511768950946,\n",
       " 4.721627346625359,\n",
       " 4.7207461099379495,\n",
       " 4.7198680474142325,\n",
       " 4.718993147621053,\n",
       " 4.7181213991664395,\n",
       " 4.717252790699452,\n",
       " 4.716387310910036,\n",
       " 4.715524948528874,\n",
       " 4.7146656923272445,\n",
       " 4.713809531116866]"
      ]
     },
     "execution_count": 148,
     "metadata": {},
     "output_type": "execute_result"
    }
   ],
   "source": [
    "# 输出成本量的迭代过程\n",
    "cost_data"
   ]
  },
  {
   "cell_type": "code",
   "execution_count": 149,
   "metadata": {},
   "outputs": [
    {
     "data": {
      "text/plain": [
       "4.713809531116866"
      ]
     },
     "execution_count": 149,
     "metadata": {},
     "output_type": "execute_result"
    }
   ],
   "source": [
    "# 计算最终的成本量\n",
    "lr_cost(final_theta, X, y)"
   ]
  },
  {
   "cell_type": "code",
   "execution_count": 150,
   "metadata": {},
   "outputs": [
    {
     "name": "stderr",
     "output_type": "stream",
     "text": [
      "/Library/Frameworks/Python.framework/Versions/3.6/lib/python3.6/site-packages/seaborn/timeseries.py:183: UserWarning: The `tsplot` function is deprecated and will be removed in a future release. Please update your code to use the new `lineplot` function.\n",
      "  warnings.warn(msg, UserWarning)\n"
     ]
    },
    {
     "data": {
      "image/png": "[encoded data removed]",
      "text/plain": [
       "<Figure size 432x288 with 1 Axes>"
      ]
     },
     "metadata": {},
     "output_type": "display_data"
    }
   ],
   "source": [
    "# 可视化代价数据\n",
    "ax = sns.tsplot(cost_data, time = np.arange(epoch + 1))\n",
    "ax.set_xlabel('epoch')\n",
    "ax.set_ylabel('cost')\n",
    "\n",
    "# 第二轮代价数据变化很大，之后平滑\n",
    "plt.show()"
   ]
  },
  {
   "cell_type": "code",
   "execution_count": 151,
   "metadata": {},
   "outputs": [
    {
     "data": {
      "image/png": "[encoded data removed]",
      "text/plain": [
       "<Figure size 432x288 with 1 Axes>"
      ]
     },
     "metadata": {},
     "output_type": "display_data"
    }
   ],
   "source": [
    "# 可视化最优参数拟合效果, b 为 y 轴截距, m 为斜率\n",
    "b = final_theta[0]\n",
    "m = final_theta[1]\n",
    "\n",
    "plt.scatter(data.population, data.profit, label = 'Training data')\n",
    "plt.plot(data.population, b + m * data.population, label = 'Prediction')\n",
    "# loc 表示标签的显示位置，0 显示在最好的位置，2 显示在左上角\n",
    "plt.legend(loc = 0)\n",
    "plt.show()"
   ]
  },
  {
   "cell_type": "markdown",
   "metadata": {},
   "source": [
    "## 六、标准化数据（特征缩放）"
   ]
  },
  {
   "cell_type": "code",
   "execution_count": 152,
   "metadata": {},
   "outputs": [],
   "source": [
    "# 特征缩放\n",
    "def normalize_feature(df):\n",
    "    # 对原始数据每一列应用一个 lambda 函数，mean() 求每列平均值，std() 求标准差\n",
    "    return df.apply(lambda column: (column - column.mean()) / column.std())"
   ]
  },
  {
   "cell_type": "code",
   "execution_count": 161,
   "metadata": {
    "scrolled": true
   },
   "outputs": [
    {
     "data": {
      "text/html": [
       "<div>\n",
       "<style scoped>\n",
       "    .dataframe tbody tr th:only-of-type {\n",
       "        vertical-align: middle;\n",
       "    }\n",
       "\n",
       "    .dataframe tbody tr th {\n",
       "        vertical-align: top;\n",
       "    }\n",
       "\n",
       "    .dataframe thead th {\n",
       "        text-align: right;\n",
       "    }\n",
       "</style>\n",
       "<table border=\"1\" class=\"dataframe\">\n",
       "  <thead>\n",
       "    <tr style=\"text-align: right;\">\n",
       "      <th></th>\n",
       "      <th>square</th>\n",
       "      <th>bedrooms</th>\n",
       "      <th>price</th>\n",
       "    </tr>\n",
       "  </thead>\n",
       "  <tbody>\n",
       "    <tr>\n",
       "      <th>0</th>\n",
       "      <td>2104</td>\n",
       "      <td>3</td>\n",
       "      <td>399900</td>\n",
       "    </tr>\n",
       "    <tr>\n",
       "      <th>1</th>\n",
       "      <td>1600</td>\n",
       "      <td>3</td>\n",
       "      <td>329900</td>\n",
       "    </tr>\n",
       "    <tr>\n",
       "      <th>2</th>\n",
       "      <td>2400</td>\n",
       "      <td>3</td>\n",
       "      <td>369000</td>\n",
       "    </tr>\n",
       "    <tr>\n",
       "      <th>3</th>\n",
       "      <td>1416</td>\n",
       "      <td>2</td>\n",
       "      <td>232000</td>\n",
       "    </tr>\n",
       "    <tr>\n",
       "      <th>4</th>\n",
       "      <td>3000</td>\n",
       "      <td>4</td>\n",
       "      <td>539900</td>\n",
       "    </tr>\n",
       "  </tbody>\n",
       "</table>\n",
       "</div>"
      ],
      "text/plain": [
       "   square  bedrooms   price\n",
       "0    2104         3  399900\n",
       "1    1600         3  329900\n",
       "2    2400         3  369000\n",
       "3    1416         2  232000\n",
       "4    3000         4  539900"
      ]
     },
     "execution_count": 161,
     "metadata": {},
     "output_type": "execute_result"
    }
   ],
   "source": [
    "# 显示原始数据\n",
    "raw_data = pd.read_csv('ex1data2.txt', names = ['square', 'bedrooms', 'price'])\n",
    "raw_data.head()"
   ]
  },
  {
   "cell_type": "code",
   "execution_count": 162,
   "metadata": {},
   "outputs": [
    {
     "data": {
      "text/html": [
       "<div>\n",
       "<style scoped>\n",
       "    .dataframe tbody tr th:only-of-type {\n",
       "        vertical-align: middle;\n",
       "    }\n",
       "\n",
       "    .dataframe tbody tr th {\n",
       "        vertical-align: top;\n",
       "    }\n",
       "\n",
       "    .dataframe thead th {\n",
       "        text-align: right;\n",
       "    }\n",
       "</style>\n",
       "<table border=\"1\" class=\"dataframe\">\n",
       "  <thead>\n",
       "    <tr style=\"text-align: right;\">\n",
       "      <th></th>\n",
       "      <th>square</th>\n",
       "      <th>bedrooms</th>\n",
       "      <th>price</th>\n",
       "    </tr>\n",
       "  </thead>\n",
       "  <tbody>\n",
       "    <tr>\n",
       "      <th>0</th>\n",
       "      <td>2104</td>\n",
       "      <td>3</td>\n",
       "      <td>399900</td>\n",
       "    </tr>\n",
       "    <tr>\n",
       "      <th>1</th>\n",
       "      <td>1600</td>\n",
       "      <td>3</td>\n",
       "      <td>329900</td>\n",
       "    </tr>\n",
       "    <tr>\n",
       "      <th>2</th>\n",
       "      <td>2400</td>\n",
       "      <td>3</td>\n",
       "      <td>369000</td>\n",
       "    </tr>\n",
       "    <tr>\n",
       "      <th>3</th>\n",
       "      <td>1416</td>\n",
       "      <td>2</td>\n",
       "      <td>232000</td>\n",
       "    </tr>\n",
       "    <tr>\n",
       "      <th>4</th>\n",
       "      <td>3000</td>\n",
       "      <td>4</td>\n",
       "      <td>539900</td>\n",
       "    </tr>\n",
       "  </tbody>\n",
       "</table>\n",
       "</div>"
      ],
      "text/plain": [
       "   square  bedrooms   price\n",
       "0    2104         3  399900\n",
       "1    1600         3  329900\n",
       "2    2400         3  369000\n",
       "3    1416         2  232000\n",
       "4    3000         4  539900"
      ]
     },
     "execution_count": 162,
     "metadata": {},
     "output_type": "execute_result"
    }
   ],
   "source": [
    "# 对原始数据进行特征缩放\n",
    "data = normalize_feature(raw_data)\n",
    "data.head()"
   ]
  },
  {
   "cell_type": "markdown",
   "metadata": {},
   "source": [
    "## 七、多变量梯度下降"
   ]
  },
  {
   "cell_type": "code",
   "execution_count": 165,
   "metadata": {},
   "outputs": [
    {
     "name": "stdout",
     "output_type": "stream",
     "text": [
      "(47, 3) <class 'numpy.ndarray'>\n"
     ]
    }
   ],
   "source": [
    "# 输出特征数据维度和类型\n",
    "X = get_X(data)\n",
    "print(X.shape, type(X))"
   ]
  },
  {
   "cell_type": "code",
   "execution_count": 166,
   "metadata": {},
   "outputs": [
    {
     "name": "stdout",
     "output_type": "stream",
     "text": [
      "(47,) <class 'numpy.ndarray'>\n"
     ]
    }
   ],
   "source": [
    "# 输出标签数据维度和类型\n",
    "y = get_y(data)\n",
    "print(y.shape, type(y))"
   ]
  },
  {
   "cell_type": "code",
   "execution_count": 167,
   "metadata": {},
   "outputs": [],
   "source": [
    "# 初始化 theta 参数均为 0\n",
    "theta = np.zeros(X.shape[1])"
   ]
  },
  {
   "cell_type": "code",
   "execution_count": 168,
   "metadata": {},
   "outputs": [],
   "source": [
    "# 设置迭代次数\n",
    "epoch = 500"
   ]
  },
  {
   "cell_type": "code",
   "execution_count": 169,
   "metadata": {},
   "outputs": [],
   "source": [
    "# 设置学习率\n",
    "alpha = 0.01"
   ]
  },
  {
   "cell_type": "code",
   "execution_count": 170,
   "metadata": {},
   "outputs": [],
   "source": [
    "# 多变量批量梯度下降\n",
    "final_theta, cost_data = batch_gradient_decent(theta, X, y, epoch, alpha = alpha)"
   ]
  },
  {
   "cell_type": "code",
   "execution_count": 78,
   "metadata": {
    "scrolled": true
   },
   "outputs": [
    {
     "name": "stderr",
     "output_type": "stream",
     "text": [
      "/Library/Frameworks/Python.framework/Versions/3.6/lib/python3.6/site-packages/seaborn/timeseries.py:183: UserWarning: The `tsplot` function is deprecated and will be removed in a future release. Please update your code to use the new `lineplot` function.\n",
      "  warnings.warn(msg, UserWarning)\n"
     ]
    },
    {
     "data": {
      "image/png": "[encoded data removed]",
      "text/plain": [
       "<Figure size 432x288 with 1 Axes>"
      ]
     },
     "metadata": {},
     "output_type": "display_data"
    }
   ],
   "source": [
    "# 代价 - 迭代次数可视化\n",
    "sns.tsplot(time = np.arange(len(cost_data)), data = cost_data)\n",
    "plt.xlabel('epoch', fontsize = 18)\n",
    "plt.ylabel('cost', fontsize = 18)\n",
    "plt.show()"
   ]
  },
  {
   "cell_type": "code",
   "execution_count": 79,
   "metadata": {},
   "outputs": [
    {
     "data": {
      "text/plain": [
       "array([-1.16537985e-16,  8.30383883e-01,  8.23982853e-04])"
      ]
     },
     "execution_count": 79,
     "metadata": {},
     "output_type": "execute_result"
    }
   ],
   "source": [
    "# 输出迭代的最优参数 theta\n",
    "final_theta"
   ]
  },
  {
   "cell_type": "markdown",
   "metadata": {},
   "source": [
    "## 八、学习率"
   ]
  },
  {
   "cell_type": "code",
   "execution_count": 110,
   "metadata": {},
   "outputs": [
    {
     "name": "stdout",
     "output_type": "stream",
     "text": [
      "[1.00000000e-01 4.64158883e-03 2.15443469e-04 1.00000000e-05]\n"
     ]
    }
   ],
   "source": [
    "# 以 10 的幂次创建等比数列学习率，开始点 -1 次，结束点 -5 次，元素个数为 4 个\n",
    "base = np.logspace(-1, -5, num = 4)\n",
    "print(base)"
   ]
  },
  {
   "cell_type": "code",
   "execution_count": 111,
   "metadata": {},
   "outputs": [
    {
     "name": "stdout",
     "output_type": "stream",
     "text": [
      "[1.00000000e-05 3.00000000e-05 2.15443469e-04 6.46330407e-04\n",
      " 4.64158883e-03 1.39247665e-02 1.00000000e-01 3.00000000e-01]\n"
     ]
    }
   ],
   "source": [
    "# 将 3 倍的 base 等比数列加入原数列，并排序显示出候选学习率\n",
    "candidate = np.sort(np.concatenate((base, base * 3)))\n",
    "print(candidate)"
   ]
  },
  {
   "cell_type": "code",
   "execution_count": 113,
   "metadata": {
    "scrolled": true
   },
   "outputs": [
    {
     "data": {
      "image/png": "[encoded data removed]",
      "text/plain": [
       "<Figure size 1152x648 with 1 Axes>"
      ]
     },
     "metadata": {},
     "output_type": "display_data"
    }
   ],
   "source": [
    "epoch = 50\n",
    "\n",
    "# 创建一个子图，宽 X 高 = 16 X 9 英寸\n",
    "fig, ax = plt.subplots(figsize = (16, 9))\n",
    "\n",
    "# 绘制每个学习率对应的代价 - 迭代次数曲线\n",
    "for alpha in candidate:\n",
    "    _, cost_data = batch_gradient_decent(theta, X, y, epoch, alpha = alpha)\n",
    "    # np.arange(51) = array([0, 1, 2, ..., 50])\n",
    "    ax.plot(np.arange(epoch + 1), cost_data, label = alpha)\n",
    "\n",
    "ax.set_xlabel('epoch', fontsize = 18)\n",
    "ax.set_ylabel('cost', fontsize = 18)\n",
    "\n",
    "# bbox_to_anchor(num1, num2), 指定图例的起始位置，参数为起始点 （整个坐标轴的高度为1）\n",
    "# num1 越大曲线标签表格越靠右，num2 越大曲线参数表格越靠上\n",
    "# borderaxespad：坐标轴与图例之间的距离\n",
    "ax.legend(bbox_to_anchor = (1.05, 1), loc = 2, borderaxespad = 0.)\n",
    "\n",
    "ax.set_title('learning rate', fontsize = 18)\n",
    "\n",
    "# 学习率太小会导致算法收敛速度过慢\n",
    "plt.show()"
   ]
  },
  {
   "cell_type": "markdown",
   "metadata": {},
   "source": [
    "## 九、正规方程"
   ]
  },
  {
   "cell_type": "code",
   "execution_count": 115,
   "metadata": {},
   "outputs": [],
   "source": [
    "# 求解正规方程\n",
    "def normalEqn(X, y):\n",
    "    theta = np.linalg.inv(X.T @ X) @ X.T @ y\n",
    "    return theta"
   ]
  },
  {
   "cell_type": "code",
   "execution_count": 116,
   "metadata": {},
   "outputs": [
    {
     "data": {
      "text/plain": [
       "array([-1.11022302e-16,  8.84765988e-01, -5.31788197e-02])"
      ]
     },
     "execution_count": 116,
     "metadata": {},
     "output_type": "execute_result"
    }
   ],
   "source": [
    "final_theta_normal = normalEqn(X, y)\n",
    "final_theta_normal"
   ]
  },
  {
   "cell_type": "markdown",
   "metadata": {},
   "source": [
    "## 十、Tensorflow 不同优化算法的比较"
   ]
  },
  {
   "cell_type": "code",
   "execution_count": 119,
   "metadata": {},
   "outputs": [
    {
     "name": "stdout",
     "output_type": "stream",
     "text": [
      "(47, 3) <class 'numpy.ndarray'>\n",
      "(47, 1) <class 'numpy.ndarray'>\n"
     ]
    }
   ],
   "source": [
    "# 读取数据，显示维度和类型\n",
    "X_data = get_X(data)\n",
    "print(X_data.shape, type(X_data))\n",
    "\n",
    "# 转为 Tensorflow 需要的数据\n",
    "y_data = get_y(data).reshape(len(X_data), 1)\n",
    "print(y_data.shape, type(y_data))"
   ]
  },
  {
   "cell_type": "code",
   "execution_count": 120,
   "metadata": {},
   "outputs": [],
   "source": [
    "def linear_regression(X_data, y_data, alpha, epoch, optimizer=tf.train.GradientDescentOptimizer):# 这个函数是旧金山的一个大神Lucas Shen写的\n",
    "      # placeholder for graph input\n",
    "    X = tf.placeholder(tf.float32, shape=X_data.shape)\n",
    "    y = tf.placeholder(tf.float32, shape=y_data.shape)\n",
    "\n",
    "    # construct the graph\n",
    "    with tf.variable_scope('linear-regression'):\n",
    "        W = tf.get_variable(\"weights\",\n",
    "                            (X_data.shape[1], 1),\n",
    "                            initializer=tf.constant_initializer())  # n*1\n",
    "\n",
    "        y_pred = tf.matmul(X, W)  # m*n @ n*1 -> m*1\n",
    "\n",
    "        loss = 1 / (2 * len(X_data)) * tf.matmul((y_pred - y), (y_pred - y), transpose_a=True)  # (m*1).T @ m*1 = 1*1\n",
    "\n",
    "    opt = optimizer(learning_rate=alpha)\n",
    "    opt_operation = opt.minimize(loss)\n",
    "\n",
    "    # run the session\n",
    "    with tf.Session() as sess:\n",
    "        sess.run(tf.global_variables_initializer())\n",
    "        loss_data = []\n",
    "\n",
    "        for i in range(epoch):\n",
    "            _, loss_val, W_val = sess.run([opt_operation, loss, W], feed_dict={X: X_data, y: y_data})\n",
    "            loss_data.append(loss_val[0, 0])  # because every loss_val is 1*1 ndarray\n",
    "\n",
    "            if len(loss_data) > 1 and np.abs(loss_data[-1] - loss_data[-2]) < 10 ** -9:  # early break when it's converged\n",
    "                # print('Converged at epoch {}'.format(i))\n",
    "                break\n",
    "\n",
    "    # clear the graph\n",
    "    tf.reset_default_graph()\n",
    "    return {'loss': loss_data, 'parameters': W_val}  # just want to return in row vector format"
   ]
  },
  {
   "cell_type": "code",
   "execution_count": 121,
   "metadata": {},
   "outputs": [],
   "source": [
    "# 设置迭代次数和学习率\n",
    "epoch = 2000\n",
    "alpha = 0.01"
   ]
  },
  {
   "cell_type": "code",
   "execution_count": 122,
   "metadata": {},
   "outputs": [],
   "source": [
    "# 构建优化器字典\n",
    "optimizer_dict = {'GD': tf.train.GradientDescentOptimizer,\n",
    "                  'Adagrad': tf.train.AdagradOptimizer,\n",
    "                  'Adam': tf.train.AdamOptimizer,\n",
    "                  'Ftrl': tf.train.FtrlOptimizer,\n",
    "                  'RMS': tf.train.RMSPropOptimizer\n",
    "                  }"
   ]
  },
  {
   "cell_type": "code",
   "execution_count": 123,
   "metadata": {},
   "outputs": [
    {
     "name": "stdout",
     "output_type": "stream",
     "text": [
      "WARNING:tensorflow:From /Library/Frameworks/Python.framework/Versions/3.6/lib/python3.6/site-packages/tensorflow_core/python/training/adagrad.py:76: calling Constant.__init__ (from tensorflow.python.ops.init_ops) with dtype is deprecated and will be removed in a future version.\n",
      "Instructions for updating:\n",
      "Call initializer instance with the dtype argument instead of passing it to the constructor\n",
      "WARNING:tensorflow:From /Library/Frameworks/Python.framework/Versions/3.6/lib/python3.6/site-packages/tensorflow_core/python/training/rmsprop.py:119: calling Ones.__init__ (from tensorflow.python.ops.init_ops) with dtype is deprecated and will be removed in a future version.\n",
      "Instructions for updating:\n",
      "Call initializer instance with the dtype argument instead of passing it to the constructor\n"
     ]
    }
   ],
   "source": [
    "# 保存线性回归的结果\n",
    "results = []\n",
    "\n",
    "# 对每个优化算法进行一次线性回归\n",
    "for name in optimizer_dict:\n",
    "    res = linear_regression(X_data, y_data, alpha, epoch, optimizer = optimizer_dict[name])\n",
    "    res['name'] = name\n",
    "    results.append(res)"
   ]
  },
  {
   "cell_type": "code",
   "execution_count": 124,
   "metadata": {},
   "outputs": [
    {
     "data": {
      "image/png": "[encoded data removed]",
      "text/plain": [
       "<Figure size 1152x648 with 1 Axes>"
      ]
     },
     "metadata": {},
     "output_type": "display_data"
    }
   ],
   "source": [
    "fig, ax = plt.subplots(figsize = (16, 9))\n",
    "\n",
    "# 绘制每个优化算法的回归曲线\n",
    "for res in results:\n",
    "    loss_data = res['loss']\n",
    "    ax.plot(np.arange(len(loss_data)), loss_data, label = res['name'])\n",
    "\n",
    "ax.set_xlabel('epoch', fontsize = 18)\n",
    "ax.set_ylabel('cost', fontsize = 18)\n",
    "ax.legend(bbox_to_anchor = (1.05, 1), loc = 2, borderaxespad = 0.)\n",
    "ax.set_title('different optimizer', fontsize = 18)\n",
    "plt.show()"
   ]
  },
  {
   "cell_type": "code",
   "execution_count": null,
   "metadata": {},
   "outputs": [],
   "source": []
  }
 ],
 "metadata": {
  "kernelspec": {
   "display_name": "Python 3",
   "language": "python",
   "name": "python3"
  },
  "language_info": {
   "codemirror_mode": {
    "name": "ipython",
    "version": 3
   },
   "file_extension": ".py",
   "mimetype": "text/x-python",
   "name": "python",
   "nbconvert_exporter": "python",
   "pygments_lexer": "ipython3",
   "version": "3.6.8"
  }
 },
 "nbformat": 4,
 "nbformat_minor": 4
}
